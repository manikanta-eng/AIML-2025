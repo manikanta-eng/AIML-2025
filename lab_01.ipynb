{
  "nbformat": 4,
  "nbformat_minor": 0,
  "metadata": {
    "colab": {
      "provenance": [],
      "authorship_tag": "ABX9TyMj4ws2dIs4ho9WFCR8FMfG",
      "include_colab_link": true
    },
    "kernelspec": {
      "name": "python3",
      "display_name": "Python 3"
    },
    "language_info": {
      "name": "python"
    }
  },
  "cells": [
    {
      "cell_type": "markdown",
      "metadata": {
        "id": "view-in-github",
        "colab_type": "text"
      },
      "source": [
        "<a href=\"https://colab.research.google.com/github/manikanta-eng/AIML-2025/blob/main/lab_01.ipynb\" target=\"_parent\"><img src=\"https://colab.research.google.com/assets/colab-badge.svg\" alt=\"Open In Colab\"/></a>"
      ]
    },
    {
      "cell_type": "code",
      "execution_count": null,
      "metadata": {
        "id": "Ogxyo6A2zs3g"
      },
      "outputs": [],
      "source": [
        "#- Part 1:Implement basic data structures using Numpy,Pandas\n",
        "\n",
        "import numpy as np\n",
        "import matplotlib.pyplot as plt\n",
        "import pandas as pd\n",
        "\n",
        "List1=[1,2,3,4]\n",
        "array1 = np.array(List1)\n",
        "array1\n",
        "array2= np.array([1,2,3,4])\n",
        "List1,array1,array2\n",
        "type(List1),type(array1),type(array2)"
      ]
    },
    {
      "cell_type": "code",
      "source": [
        "print(f\"Sine value of array1:{np.sin(array1)}\")\n",
        "print(f\"Log value of array1:{np.log(array1)}\")\n",
        "print(f\"Log base 2 value of array1:{np.log2(array1)}\")\n",
        "print(f\"Log base 10 value of array1:{np.log10(array1)}\")\n",
        "print(f\"Exponential value of array1:{np.exp(array1)}\")"
      ],
      "metadata": {
        "id": "em8CyrPY3iGT"
      },
      "execution_count": null,
      "outputs": []
    },
    {
      "cell_type": "code",
      "source": [
        "Add:array1+array2\n",
        "Sub:array1-array2\n",
        "Mul:array1*array2\n",
        "Div:array1/array2\n",
        "print(f\"Adding{array1} with {array2}\")\n",
        "print(f\"Result:{np.add(array1,array2)}\")"
      ],
      "metadata": {
        "id": "_q_oWyhs3nRN"
      },
      "execution_count": null,
      "outputs": []
    },
    {
      "cell_type": "code",
      "source": [
        "people =['ajay','anand','harish','sanjay']\n",
        "age = [12,18,19,21]\n",
        "weight = [65,50,56,65]\n",
        "height=[145,168,171,175]"
      ],
      "metadata": {
        "id": "k8oHDe4D3s7p"
      },
      "execution_count": null,
      "outputs": []
    },
    {
      "cell_type": "code",
      "source": [
        "plt.scatter(weight, height)\n",
        "plt.title(\"Relationship between Weight and Height of Patients\")\n",
        "plt.ylabel(\"Height in Meters\")\n",
        "plt.xlabel(\"Weight of Patients in Kgs\")\n",
        "plt.show()"
      ],
      "metadata": {
        "id": "moIObuyC3ym4"
      },
      "execution_count": null,
      "outputs": []
    },
    {
      "cell_type": "code",
      "source": [
        "plt.figure(figsize=(5,4))\n",
        "plt.hist(people, bins=5)\n",
        "plt.xlabel('people')\n",
        "plt.ylabel('weight')\n",
        "plt.title('people vs weight')\n",
        "plt.show()"
      ],
      "metadata": {
        "id": "w5OdIsey32FC"
      },
      "execution_count": null,
      "outputs": []
    }
  ]
}